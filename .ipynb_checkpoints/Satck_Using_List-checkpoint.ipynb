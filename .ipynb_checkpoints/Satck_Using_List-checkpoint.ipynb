{
 "cells": [
  {
   "cell_type": "code",
   "execution_count": 1,
   "id": "ca18b86f-6cb2-4371-bdbd-c2ee074fbc50",
   "metadata": {},
   "outputs": [
    {
     "ename": "SyntaxError",
     "evalue": "incomplete input (3925258353.py, line 45)",
     "output_type": "error",
     "traceback": [
      "\u001b[1;36m  Cell \u001b[1;32mIn[1], line 45\u001b[1;36m\u001b[0m\n\u001b[1;33m    \u001b[0m\n\u001b[1;37m    ^\u001b[0m\n\u001b[1;31mSyntaxError\u001b[0m\u001b[1;31m:\u001b[0m incomplete input\n"
     ]
    }
   ],
   "source": [
    "class Stack:\n",
    "    def __init__(self):\n",
    "        delf.items=[]  #creating an empty list\n",
    "    def isempty(self):\n",
    "        return self.items==[]\n",
    "    def push(self,items):\n",
    "        return self.items.append(items)\n",
    "    def pop(self):\n",
    "        if self.isempty():\n",
    "            print(\"Satck is underflow\")\n",
    "            return None\n",
    "        return self.items.pop()\n",
    "    def peek(self):\n",
    "        if self.isempty():\n",
    "            print(\"Satck is empty\")\n",
    "            return None\n",
    "        return self.items[len(self.items)-1]\n",
    "    def size(self):\n",
    "        return len(sel.items)\n",
    "    def display(self):\n",
    "        if self.isempty():\n",
    "            print(\"Satck is Empty\")\n",
    "            return None\n",
    "        print(\"Stack element (from to to bottom)\")\n",
    "        top=len(self.items)\n",
    "        for i in range(top-1,-1,-1):\n",
    "            print(self.items[i])\n",
    "s= Stack()\n",
    "while(true):\n",
    "    print(\"Program to implement stack using list\")\n",
    "    print(\"1.Push\")\n",
    "    print(\"2.pop\")\n",
    "    print(\"3.peek\")\n",
    "    print(\"4.display\")\n",
    "    print(\"5.Exit\")\n",
    "    choice=int(input(\"Enter your choice\"))\n",
    "    if choice ==1:\n",
    "        num=int(input(\"enter the data\"))\n",
    "        s.push(num)\n",
    "    elif choice ==2:\n",
    "        num=s.pop()\n",
    "        if num is not None:\n",
    "            print(\"popped item:\",num)\n",
    "    elif choice==3:\n",
    "        num=s.peek()\n",
    "        if num is not None:\n",
    "            print(\"item at the top of the stack:\",num)\n",
    "    elif choice==4:\n",
    "        s.display()\n",
    "    elif choice==5:\n",
    "        print(\"\\n Quitting\")\n",
    "        break\n",
    "    else:\n",
    "        print(\"Invalid choice !! enter the correct option \")\n",
    "    "
   ]
  },
  {
   "cell_type": "code",
   "execution_count": null,
   "id": "b33bfa63-1365-4fdd-a34c-90ac7c933d26",
   "metadata": {},
   "outputs": [],
   "source": []
  }
 ],
 "metadata": {
  "kernelspec": {
   "display_name": "Python 3 (ipykernel)",
   "language": "python",
   "name": "python3"
  },
  "language_info": {
   "codemirror_mode": {
    "name": "ipython",
    "version": 3
   },
   "file_extension": ".py",
   "mimetype": "text/x-python",
   "name": "python",
   "nbconvert_exporter": "python",
   "pygments_lexer": "ipython3",
   "version": "3.12.7"
  }
 },
 "nbformat": 4,
 "nbformat_minor": 5
}
